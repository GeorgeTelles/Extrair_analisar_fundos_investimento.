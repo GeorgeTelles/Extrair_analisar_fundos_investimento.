{
  "nbformat": 4,
  "nbformat_minor": 0,
  "metadata": {
    "colab": {
      "provenance": [],
      "include_colab_link": true
    },
    "kernelspec": {
      "name": "python3",
      "display_name": "Python 3"
    },
    "language_info": {
      "name": "python"
    }
  },
  "cells": [
    {
      "cell_type": "markdown",
      "metadata": {
        "id": "view-in-github",
        "colab_type": "text"
      },
      "source": [
        "<a href=\"https://colab.research.google.com/github/GeorgeTelles/Extrair_analisar_fundos_investimento./blob/main/Extrair_e_analisar_fundos_de_investimento.ipynb\" target=\"_parent\"><img src=\"https://colab.research.google.com/assets/colab-badge.svg\" alt=\"Open In Colab\"/></a>"
      ]
    },
    {
      "cell_type": "markdown",
      "source": [
        "<div>\n",
        "  <img src=\"https://raw.githubusercontent.com/GeorgeTelles/georgetelles/f69531ec6b293b5148563588a764c010015d315e/logo_clara.png\" alt=\"logo clara\" width=\"300\" style=\"display: inline-block; vertical-align: top; margin-right: 10px;\">\n",
        "  <img src=\"https://raw.githubusercontent.com/GeorgeTelles/georgetelles/f69531ec6b293b5148563588a764c010015d315e/logo_dark.png\" alt=\"logo dark\" width=\"300\" style=\"display: inline-block; vertical-align: top;\">\n",
        "</div>\n"
      ],
      "metadata": {
        "id": "rI3HNTnIe7Sd"
      }
    },
    {
      "cell_type": "markdown",
      "source": [
        "# **Extrair e analisar dados de fundos de investimento**"
      ],
      "metadata": {
        "id": "TlQzNStKheJ8"
      }
    },
    {
      "cell_type": "markdown",
      "source": [
        "Esse algoritmo em Python tem como objetivo obter dados de fundos de investimento direto da fonte: o portal de dados da CVM.\n",
        "\n",
        "Vou processar estes dados para posteriormente analisá-los.\n",
        "\n",
        "Quero responder algumas perguntas importantes, como:\n",
        "\n",
        "1. Quais fundos do Brasil tem o maior PL (patrimônio líquido)?\n",
        "2. Quais fundos tem mais cotistas?\n",
        "3. Quais os 10 fundos que teviveram as maiores altas?\n",
        "4. Quais os 10 fundos que teviveram as maiores baixas?"
      ],
      "metadata": {
        "id": "inbEs_Cue2iW"
      }
    },
    {
      "cell_type": "markdown",
      "source": [
        "# **0. Noções básicas**"
      ],
      "metadata": {
        "id": "cyGsrjnSZvmH"
      }
    },
    {
      "cell_type": "markdown",
      "source": [
        "### O que é um fundo de investimento?"
      ],
      "metadata": {
        "id": "dwo_7WEge3Kr"
      }
    },
    {
      "cell_type": "markdown",
      "source": [
        "**O que é um Fundo de Investimentos?**\n",
        "Um fundo de investimentos funciona como uma espécie de condomínio.\n",
        "\n",
        "Dentro de um fundo temos vários segmentos:\n",
        "\n",
        "Existe a empresa administradora do fundo, o gestor, os profissionais que fazem a auditoria sobre os números do fundo e, por fim, mas não menos importante, os investidores, ou nesse caso, os cotistas.\n",
        "\n",
        "O fundo de investimento parte da prerrogativa: Porque investir sozinho, se o investidor pode fazer isso com mais pessoas, utilizando muito mais recursos e contratando um profissional ultra qualificado para cuidar de todo esse dinheiro?\n",
        "\n",
        "É por isso que, em grande parte, os fundos funcionam como condomínios.\n",
        "\n",
        "Fonte: https://maisretorno.com/portal/termos/f/fundo-de-investimentos"
      ],
      "metadata": {
        "id": "ojVeCA_hgsM9"
      }
    },
    {
      "cell_type": "markdown",
      "source": [
        "Fonte: https://blog.yubb.com.br/entenda-os-fundos-de-investimentos/"
      ],
      "metadata": {
        "id": "pJMcOBibhZYN"
      }
    },
    {
      "cell_type": "markdown",
      "source": [
        "Ferramentas importantes para ajudar a analisar e comparar fundos de investimento\n",
        "\n",
        "Portal de dados Anbima\n",
        "https://data.anbima.com.br/\n",
        "\n",
        "Mais Retorno\n",
        "https://maisretorno.com/comparacao-fundos\n",
        "\n"
      ],
      "metadata": {
        "id": "2QmX_hppfISc"
      }
    },
    {
      "cell_type": "markdown",
      "source": [
        "1. Identificar os sites que farão parte da busca (cotas e cadastral)\n",
        "2. Iniciar extração dos dados\n",
        "3. Obter e tratar os dados\n",
        "4. Juntar os dois e começar as análises\n",
        "5. Responder questionamentos do projeto"
      ],
      "metadata": {
        "id": "2C6-tkO9_06J"
      }
    },
    {
      "cell_type": "markdown",
      "source": [
        "### Qual o processo?"
      ],
      "metadata": {
        "id": "KBrniF1hfD9F"
      }
    },
    {
      "cell_type": "markdown",
      "source": [
        "Vou começar a extração explorando as páginas da CVM que tem as informações que serão extraídas."
      ],
      "metadata": {
        "id": "oOAMhI95Zzjv"
      }
    },
    {
      "cell_type": "markdown",
      "source": [
        "Para dados de desempenho dos fundos:\n",
        "\n",
        "https://dados.cvm.gov.br/dados/FI/DOC/INF_DIARIO/DADOS/\n",
        "\n",
        "Para dados cadastrais dos fundos:\n",
        "\n",
        "http://dados.cvm.gov.br/dados/FI/CAD/DADOS/\n",
        "\n",
        "dados abertos da CVM:\n",
        "\n",
        "https://dados.cvm.gov.br/"
      ],
      "metadata": {
        "id": "k5QuiOlGcVSX"
      }
    },
    {
      "cell_type": "markdown",
      "source": [
        "# **1. Extração e processamento dos dados**"
      ],
      "metadata": {
        "id": "Oo8VeJxOzVb3"
      }
    },
    {
      "cell_type": "markdown",
      "source": [
        "## 1.1. Importação das bibliotecas"
      ],
      "metadata": {
        "id": "JfMsmURZzylH"
      }
    },
    {
      "cell_type": "code",
      "source": [
        "import zipfile\n",
        "import io\n",
        "import requests\n",
        "import pandas as pd\n",
        "import numpy as np\n",
        "import matplotlib.pyplot as plt\n",
        "import seaborn as sns\n",
        "\n",
        "pd.options.display.float_format = '{:.2f}'.format"
      ],
      "metadata": {
        "id": "24e-sKQoz0lI"
      },
      "execution_count": null,
      "outputs": []
    },
    {
      "cell_type": "markdown",
      "source": [
        "## 1.2. Captura do primeiro conjunto de dados"
      ],
      "metadata": {
        "id": "R_Z_gIE20JYx"
      }
    },
    {
      "cell_type": "code",
      "source": [
        "#O nome do arquivo precisa conter o ano e mês mais recentes ou do mês anterior, neste exemplo 2024/08\n",
        "arquivo = 'inf_diario_fi_202408.csv'\n",
        "\n",
        "link = 'https://dados.cvm.gov.br/dados/FI/DOC/INF_DIARIO/DADOS/inf_diario_fi_202408.zip'"
      ],
      "metadata": {
        "id": "wdbT2GQ40M85"
      },
      "execution_count": null,
      "outputs": []
    },
    {
      "cell_type": "code",
      "source": [
        "r = requests.get(link)"
      ],
      "metadata": {
        "id": "tFutVKJz1Eaa"
      },
      "execution_count": null,
      "outputs": []
    },
    {
      "cell_type": "code",
      "source": [
        "zf = zipfile.ZipFile(io.BytesIO(r.content))\n",
        "arquivo_fi = zf.open(arquivo)"
      ],
      "metadata": {
        "id": "Ba5qUFyh1Olw"
      },
      "execution_count": null,
      "outputs": []
    },
    {
      "cell_type": "code",
      "source": [
        "linhas = arquivo_fi.readlines()\n",
        "linhas = [i.strip().decode('ISO-8859-1') for i in linhas]\n",
        "linhas = [i.split(';') for i in linhas]"
      ],
      "metadata": {
        "id": "yeibRaHq2LIG"
      },
      "execution_count": null,
      "outputs": []
    },
    {
      "cell_type": "code",
      "source": [
        "df = pd.DataFrame(linhas, columns = linhas[0])\n",
        "informes_diarios = df[1:].reset_index()\n",
        "informes_diarios[['VL_TOTAL', 'VL_QUOTA', 'VL_PATRIM_LIQ', 'CAPTC_DIA', 'RESG_DIA', 'NR_COTST']] = informes_diarios[['VL_TOTAL', 'VL_QUOTA', 'VL_PATRIM_LIQ', 'CAPTC_DIA', 'RESG_DIA', 'NR_COTST']].apply(pd.to_numeric)\n",
        "informes_diarios"
      ],
      "metadata": {
        "id": "qH39tjuj3hSP"
      },
      "execution_count": null,
      "outputs": []
    },
    {
      "cell_type": "markdown",
      "source": [
        "## 1.3. Captura do segundo conjunto de dados"
      ],
      "metadata": {
        "id": "x_Pr3VLM8pPW"
      }
    },
    {
      "cell_type": "code",
      "source": [
        "url = \"http://dados.cvm.gov.br/dados/FI/CAD/DADOS/cad_fi.csv\""
      ],
      "metadata": {
        "id": "Dp7P03Hu8skH"
      },
      "execution_count": null,
      "outputs": []
    },
    {
      "cell_type": "code",
      "source": [
        "cadastral = pd.read_csv(url, sep = ';', encoding = 'ISO-8859-1')\n",
        "cadastral = cadastral.drop_duplicates(subset='CNPJ_FUNDO')"
      ],
      "metadata": {
        "id": "RsgVcCrW8zC8"
      },
      "execution_count": null,
      "outputs": []
    },
    {
      "cell_type": "markdown",
      "source": [
        "**Agora temos 2 conjuntos de dados: o Data Frame \"cadastral\" e o \"informes_diarios\", vou juntar os 2 em um só**"
      ],
      "metadata": {
        "id": "j-m12e0PR7E0"
      }
    },
    {
      "cell_type": "code",
      "source": [
        "# Mesclar os dataframes\n",
        "dados_fundos = pd.merge(informes_diarios, cadastral, on='CNPJ_FUNDO', how='left')"
      ],
      "metadata": {
        "id": "PMGFPC9OTWd1"
      },
      "execution_count": null,
      "outputs": []
    },
    {
      "cell_type": "markdown",
      "source": [
        "**Tratamento do DataFrame**"
      ],
      "metadata": {
        "id": "D_VwwPsRtlPn"
      }
    },
    {
      "cell_type": "code",
      "source": [
        "dados_fundos = dados_fundos[dados_fundos['VL_QUOTA'] != 0]\n",
        "dados_fundos = dados_fundos[dados_fundos['NR_COTST'] > 150]"
      ],
      "metadata": {
        "id": "H3rGbKrttkiu"
      },
      "execution_count": null,
      "outputs": []
    },
    {
      "cell_type": "code",
      "source": [
        "qtd_fundos = dados_fundos['CNPJ_FUNDO'].nunique()\n",
        "print(f\"Temos {qtd_fundos} Fundos com no minimo 150 cotistas\")"
      ],
      "metadata": {
        "id": "blhb5FltXD_1"
      },
      "execution_count": null,
      "outputs": []
    },
    {
      "cell_type": "markdown",
      "source": [
        "# **2. Análises com dados cadastrais**"
      ],
      "metadata": {
        "id": "klO0yTpg7vv_"
      }
    },
    {
      "cell_type": "markdown",
      "source": [
        "## 2.1. 10 Fundos com maiores Patrimônio Liquidos"
      ],
      "metadata": {
        "id": "ssdjGjPq9seO"
      }
    },
    {
      "cell_type": "code",
      "source": [
        "top_10_pl = dados_fundos[dados_fundos['DT_COMPTC'] == '2024-08-01'] \\\n",
        "    .sort_values('VL_PATRIM_LIQ_x', ascending=False) \\\n",
        "    .head(10) \\\n",
        "    .loc[:, ['CNPJ_FUNDO', 'DENOM_SOCIAL', 'CLASSE', 'VL_PATRIM_LIQ_x']]\n",
        "\n",
        "top_10_pl"
      ],
      "metadata": {
        "id": "EzrUWVR-btMV"
      },
      "execution_count": null,
      "outputs": []
    },
    {
      "cell_type": "markdown",
      "source": [
        "## 2.2. fundos com maiores numeros de cotistas"
      ],
      "metadata": {
        "id": "ZGloqIwyCMDQ"
      }
    },
    {
      "cell_type": "code",
      "source": [
        "top_10_cotistas = dados_fundos[dados_fundos['DT_COMPTC'] == '2024-08-01'] \\\n",
        "    .sort_values('NR_COTST', ascending=False) \\\n",
        "    .head(10) \\\n",
        "    .loc[:, ['CNPJ_FUNDO', 'DENOM_SOCIAL', 'CLASSE', 'NR_COTST']]\n",
        "\n",
        "top_10_cotistas"
      ],
      "metadata": {
        "id": "r1B1XV9iB8k8"
      },
      "execution_count": null,
      "outputs": []
    },
    {
      "cell_type": "markdown",
      "source": [
        "## 2.2. Os 10 fundos que mais valorizaram e os 10 fundos que mais desvalorizaram"
      ],
      "metadata": {
        "id": "BjYUjca5BoB8"
      }
    },
    {
      "cell_type": "markdown",
      "source": [
        "**Calculando os retornos**"
      ],
      "metadata": {
        "id": "blvyCM9ugwIH"
      }
    },
    {
      "cell_type": "code",
      "source": [
        "dados_fundos = dados_fundos.copy()\n",
        "dados_fundos['RETORNO'] = dados_fundos.groupby('CNPJ_FUNDO')['VL_QUOTA'].pct_change() * 100\n",
        "dados_fundos = dados_fundos.dropna(subset=['RETORNO'])\n",
        "pass\n"
      ],
      "metadata": {
        "id": "3MoGzIGcgvje"
      },
      "execution_count": null,
      "outputs": []
    },
    {
      "cell_type": "code",
      "source": [
        "dados_fundos = dados_fundos.copy()\n",
        "dados_fundos['RETORNO_ACUMULADO'] = dados_fundos.groupby('CNPJ_FUNDO')['RETORNO'].cumsum()\n",
        "dados_fundos = dados_fundos.dropna(subset=['RETORNO_ACUMULADO'])\n",
        "retorno_total = dados_fundos.groupby('DENOM_SOCIAL')['RETORNO_ACUMULADO'].last()"
      ],
      "metadata": {
        "id": "Fdbpg35ez8aX"
      },
      "execution_count": null,
      "outputs": []
    },
    {
      "cell_type": "markdown",
      "source": [
        "**10 Maiores altas**"
      ],
      "metadata": {
        "id": "FCGEqCLMEj2E"
      }
    },
    {
      "cell_type": "code",
      "source": [
        "top_10_altas = retorno_total.sort_values(ascending=False).head(10)\n",
        "top_10_altas_df = top_10_altas.reset_index()\n",
        "\n",
        "top_10_altas_df.columns = ['DENOM_SOCIAL', 'RETORNO_ACUMULADO']\n",
        "top_10_altas_df['INDEX'] = range(1, len(top_10_altas_df) + 1)\n",
        "\n",
        "\n",
        "top_10_altas_df = top_10_altas_df.set_index('INDEX')\n",
        "\n",
        "top_10_altas_df"
      ],
      "metadata": {
        "id": "JVao7UnMvofu"
      },
      "execution_count": null,
      "outputs": []
    },
    {
      "cell_type": "markdown",
      "source": [
        "**10 Maiores Baixas**"
      ],
      "metadata": {
        "id": "eNf-uWgP0P4u"
      }
    },
    {
      "cell_type": "code",
      "source": [
        "# Obter os 10 fundos com os menores retornos acumulados\n",
        "top_10_baixas = retorno_total.sort_values(ascending=True).head(10)\n",
        "\n",
        "# Converter para DataFrame e adicionar coluna de índice\n",
        "top_10_baixas_df = top_10_baixas.reset_index()\n",
        "top_10_baixas_df.columns = ['DENOM_SOCIAL', 'RETORNO_ACUMULADO']\n",
        "top_10_baixas_df['INDEX'] = range(1, len(top_10_baixas_df) + 1)\n",
        "\n",
        "# Definir a nova coluna 'INDEX' como índice\n",
        "top_10_baixas_df = top_10_baixas_df.set_index('INDEX')\n",
        "\n",
        "# Mostrar o DataFrame com o novo índice\n",
        "top_10_baixas_df\n"
      ],
      "metadata": {
        "id": "rsBi_Gkf0IMf"
      },
      "execution_count": null,
      "outputs": []
    }
  ]
}